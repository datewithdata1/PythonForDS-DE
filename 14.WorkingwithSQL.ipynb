{
 "cells": [
  {
   "cell_type": "markdown",
   "metadata": {},
   "source": [
    "## Working with Relational Database Using Python\n",
    "\n",
    "SQLite is a lightweight, embedded SQL database engine that provides a simple way to manage relational databases in Python. It's included as a standard library in Python, so you don't need to install any additional packages to use it. Here's how you can work with SQLite in Python:\n",
    "\n",
    "## 1. Connecting to a Database\n",
    "\n",
    "To work with SQLite databases in Python, you first need to establish a connection to the database using the `sqlite3` module.\n"
   ]
  },
  {
   "cell_type": "code",
   "execution_count": 8,
   "metadata": {},
   "outputs": [],
   "source": [
    "import sqlite3\n",
    "\n",
    "# Connect to a SQLite database (creates a new database if it doesn't exist)\n",
    "conn = sqlite3.connect('example.db')\n",
    "\n",
    "# Create a cursor object to execute SQL queries\n",
    "cursor = conn.cursor()"
   ]
  },
  {
   "cell_type": "markdown",
   "metadata": {},
   "source": [
    "## 2. Creating Tables\n",
    "\n",
    "You can create tables in your SQLite database using SQL `CREATE TABLE` statements.\n"
   ]
  },
  {
   "cell_type": "code",
   "execution_count": 9,
   "metadata": {},
   "outputs": [],
   "source": [
    "# Execute a SQL command to create a table\n",
    "cursor.execute('''CREATE TABLE IF NOT EXISTS users (\n",
    "                    id INTEGER PRIMARY KEY,\n",
    "                    name TEXT NOT NULL,\n",
    "                    age INTEGER)''')\n",
    "\n",
    "# Commit the transaction\n",
    "conn.commit()"
   ]
  },
  {
   "cell_type": "markdown",
   "metadata": {},
   "source": [
    "## 3. Inserting Data\n",
    "\n",
    "You can insert data into tables using SQL `INSERT INTO` statements.\n"
   ]
  },
  {
   "cell_type": "code",
   "execution_count": 10,
   "metadata": {},
   "outputs": [],
   "source": [
    "# Insert data into the 'users' table\n",
    "cursor.execute(\"INSERT INTO users (name, age) VALUES (?, ?)\", ('Alice', 30))\n",
    "cursor.execute(\"INSERT INTO users (name, age) VALUES (?, ?)\", ('Babar', 25))\n",
    "cursor.execute(\"INSERT INTO users (name, age) VALUES (?, ?)\", ('Zaid', 35))\n",
    "\n",
    "# Commit the transaction\n",
    "conn.commit()"
   ]
  },
  {
   "cell_type": "markdown",
   "metadata": {},
   "source": [
    "\n",
    "## 4. Querying Data\n",
    "\n",
    "You can retrieve data from tables using SQL `SELECT` statements.\n"
   ]
  },
  {
   "cell_type": "code",
   "execution_count": 11,
   "metadata": {},
   "outputs": [
    {
     "name": "stdout",
     "output_type": "stream",
     "text": [
      "(1, 'Alice', 30)\n",
      "(2, 'Alice', 30)\n",
      "(3, 'Babar', 25)\n",
      "(4, 'Zaid', 35)\n",
      "(5, 'Alice', 30)\n",
      "(6, 'Babar', 25)\n",
      "(7, 'Zaid', 35)\n"
     ]
    }
   ],
   "source": [
    "# Query data from the 'users' table\n",
    "cursor.execute(\"SELECT * FROM users\")\n",
    "rows = cursor.fetchall()\n",
    "\n",
    "# Print the results\n",
    "for row in rows:\n",
    "    print(row)"
   ]
  },
  {
   "cell_type": "markdown",
   "metadata": {},
   "source": [
    "## 5. Updating Data\n",
    "\n",
    "You can update existing data in tables using SQL `UPDATE` statements.\n"
   ]
  },
  {
   "cell_type": "code",
   "execution_count": 12,
   "metadata": {},
   "outputs": [],
   "source": [
    "# Update data in the 'users' table\n",
    "cursor.execute(\"UPDATE users SET age = ? WHERE name = ?\", (35, 'Alice'))\n",
    "\n",
    "# Commit the transaction\n",
    "conn.commit()"
   ]
  },
  {
   "cell_type": "markdown",
   "metadata": {},
   "source": [
    "## 6. Deleting Data\n",
    "\n",
    "You can delete data from tables using SQL `DELETE FROM` statements."
   ]
  },
  {
   "cell_type": "code",
   "execution_count": 13,
   "metadata": {},
   "outputs": [],
   "source": [
    "# Delete data from the 'users' table\n",
    "cursor.execute(\"DELETE FROM users WHERE name = ?\", ('Alice',))\n",
    "\n",
    "# Commit the transaction\n",
    "conn.commit()"
   ]
  },
  {
   "cell_type": "markdown",
   "metadata": {},
   "source": [
    "## 7. Closing the Connection\n",
    "\n",
    "After performing all operations, don't forget to close the connection to the database.\n"
   ]
  },
  {
   "cell_type": "code",
   "execution_count": 14,
   "metadata": {},
   "outputs": [],
   "source": [
    "# Close the cursor\n",
    "cursor.close()\n",
    "\n",
    "# Close the connection\n",
    "conn.close()"
   ]
  },
  {
   "cell_type": "markdown",
   "metadata": {},
   "source": [
    "### Conclusion\n",
    "\n",
    "SQLite provides a simple and efficient way to work with databases in Python. By using the `sqlite3` module and SQL commands, you can perform various database operations such as creating tables, inserting data, querying data, updating data, and deleting data. Make sure to handle exceptions appropriately when working with databases to ensure data integrity and reliability."
   ]
  }
 ],
 "metadata": {
  "kernelspec": {
   "display_name": "Python 3",
   "language": "python",
   "name": "python3"
  },
  "language_info": {
   "codemirror_mode": {
    "name": "ipython",
    "version": 3
   },
   "file_extension": ".py",
   "mimetype": "text/x-python",
   "name": "python",
   "nbconvert_exporter": "python",
   "pygments_lexer": "ipython3",
   "version": "3.11.5"
  }
 },
 "nbformat": 4,
 "nbformat_minor": 2
}
