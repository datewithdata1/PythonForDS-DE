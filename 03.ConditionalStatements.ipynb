{
 "cells": [
  {
   "cell_type": "markdown",
   "metadata": {},
   "source": [
    "\n",
    "\n",
    "# Conditional Statements in Python\n",
    "\n",
    "Conditional statements are used in programming to execute certain blocks of code based on certain conditions. In Python, the primary conditional statements are `if`, `else`, and `elif` (short for \"else if\"). Nested `if` statements are also commonly used to handle more complex conditions.\n",
    "\n",
    "In this notebook, we'll cover:\n",
    "\n",
    "1. Basic if statement\n",
    "2. if-else statement\n",
    "3. if-elif-else statement\n",
    "4. Nested if statement\n",
    "\n",
    "Let's dive into each of these.\n",
    "\n",
    "## 1. Basic if statement\n",
    "\n",
    "The basic `if` statement executes a block of code if a specified condition is `True`. If the condition is `False`, the code block is skipped."
   ]
  },
  {
   "cell_type": "code",
   "execution_count": null,
   "metadata": {},
   "outputs": [],
   "source": [
    "x = 3\n",
    "if x > 5:\n",
    "    print(\"x is greater than 5\")"
   ]
  },
  {
   "cell_type": "markdown",
   "metadata": {},
   "source": [
    "## 2. if-else statement\n",
    "\n",
    "The `if-else` statement allows you to execute one block of code if the condition is `True`, and another block if the condition is `False`.\n"
   ]
  },
  {
   "cell_type": "code",
   "execution_count": null,
   "metadata": {},
   "outputs": [],
   "source": [
    "# Example of an if-else statement\n",
    "x = 12\n",
    "if x % 2 == 0:\n",
    "    print(\"x is even\")\n",
    "else:\n",
    "    print(\"x is odd\")"
   ]
  },
  {
   "cell_type": "markdown",
   "metadata": {},
   "source": [
    "## 3. if-elif-else statement\n",
    "\n",
    "The `if-elif-else` statement allows you to check multiple conditions. If the condition for `if` is `False`, it checks the condition of the next `elif` block, and so on. If none of the conditions are `True`, the `else` block is executed."
   ]
  },
  {
   "cell_type": "code",
   "execution_count": null,
   "metadata": {},
   "outputs": [],
   "source": [
    "grade = 75\n",
    "if grade >= 90:\n",
    "    print(\"A\")\n",
    "elif grade >= 80:\n",
    "    print(\"B\")\n",
    "elif grade >= 70:\n",
    "    print(\"C\")\n",
    "elif grade >= 60:\n",
    "    print(\"D\")\n",
    "else:\n",
    "    print(\"F\")"
   ]
  },
  {
   "cell_type": "markdown",
   "metadata": {},
   "source": [
    "\n",
    "## 4. Nested if statement\n",
    "\n",
    "You can nest `if` statements within other `if` statements to handle more complex conditions.\n"
   ]
  },
  {
   "cell_type": "code",
   "execution_count": null,
   "metadata": {},
   "outputs": [],
   "source": [
    "# Example of nested if statement\n",
    "x = 10\n",
    "if x > 5:\n",
    "    if x < 15:\n",
    "        print(\"x is between 5 and 15\")"
   ]
  },
  {
   "cell_type": "markdown",
   "metadata": {},
   "source": [
    "## Conclusion\n",
    "\n",
    "Conditional statements are essential for controlling the flow of your program based on different conditions. Understanding how to use `if`, `else`, `elif`, and nested `if` statements will allow you to write more flexible and powerful code."
   ]
  }
 ],
 "metadata": {
  "kernelspec": {
   "display_name": "Python 3",
   "language": "python",
   "name": "python3"
  },
  "language_info": {
   "codemirror_mode": {
    "name": "ipython",
    "version": 3
   },
   "file_extension": ".py",
   "mimetype": "text/x-python",
   "name": "python",
   "nbconvert_exporter": "python",
   "pygments_lexer": "ipython3",
   "version": "3.11.5"
  }
 },
 "nbformat": 4,
 "nbformat_minor": 2
}
