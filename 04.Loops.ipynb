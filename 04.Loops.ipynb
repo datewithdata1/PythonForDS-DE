{
 "cells": [
  {
   "cell_type": "markdown",
   "metadata": {},
   "source": [
    "# Learning Loops in Python\n",
    "\n",
    "Let's start by creating a new Jupyter Notebook. We'll cover the following topics:\n",
    "\n",
    "1. Introduction to Loops\n",
    "2. `for` Loops\n",
    "3. `while` Loops\n",
    "4. Nested Loops\n",
    "5. Loop Control Statements (break, continue)\n",
    "\n",
    "\n",
    "## Introduction to Loops\n",
    "\n",
    "Loops in programming are used to repeat a block of code multiple times. They help in automating repetitive tasks and iterating over data structures like lists, strings, etc.\n",
    "\n",
    "There are two main types of loops in Python:\n",
    "1. for loop\n",
    "2. while loop\n",
    "\n",
    "\n",
    "\n",
    "### 1. for Loops\n",
    "\n",
    "A for loop is used to iterate over a sequence (like a list, tuple, string, etc.) or any other iterable object. It executes a block of code repeatedly until the sequence is exhausted.\n",
    "\n",
    "\n",
    "```python\n",
    "# Syntax of a for loop\n",
    "for item in sequence:\n",
    "    # Code block to be executed\n",
    "```"
   ]
  },
  {
   "cell_type": "code",
   "execution_count": null,
   "metadata": {},
   "outputs": [],
   "source": [
    "# Iterating over a list\n",
    "fruits = [\"apple\", \"banana\", \"cherry\"]\n",
    "for fruit in fruits:\n",
    "    print(fruit)"
   ]
  },
  {
   "cell_type": "code",
   "execution_count": null,
   "metadata": {},
   "outputs": [],
   "source": [
    "# Iterating over range\n",
    "for x in range(1,20,2):\n",
    "    print(x)"
   ]
  },
  {
   "cell_type": "markdown",
   "metadata": {},
   "source": [
    "### 2. while Loops\n",
    "\n",
    "A while loop executes a block of code repeatedly as long as a specified condition is true.\n",
    "\n",
    "```python\n",
    "# Syntax of a while loop\n",
    "while condition:\n",
    "    # Code block to be executed\n",
    "```"
   ]
  },
  {
   "cell_type": "code",
   "execution_count": null,
   "metadata": {},
   "outputs": [],
   "source": [
    "# Print numbers from 1 to 5 using a while loop\n",
    "num = 1\n",
    "while num <= 5:\n",
    "    print(num)\n",
    "    num += 1"
   ]
  },
  {
   "cell_type": "markdown",
   "metadata": {},
   "source": [
    "### Nested Loops\n",
    "\n",
    "You can put one loop inside another loop. These are called nested loops.\n",
    "\n",
    "Example:"
   ]
  },
  {
   "cell_type": "code",
   "execution_count": null,
   "metadata": {},
   "outputs": [],
   "source": [
    "# Nested for loop\n",
    "for i in range(3):\n",
    "    for j in range(2):\n",
    "        print(f\"({i}, {j})\")"
   ]
  },
  {
   "cell_type": "markdown",
   "metadata": {},
   "source": [
    "\n",
    "### Loop Control Statements\n",
    "\n",
    "Python provides two loop control statements:\n",
    "1. break: Terminates the loop and transfers execution to the statement immediately following the loop.\n",
    "2. continue: Skips the rest of the code inside the loop for the current iteration and proceeds to the next iteration.\n"
   ]
  },
  {
   "cell_type": "code",
   "execution_count": null,
   "metadata": {},
   "outputs": [],
   "source": [
    "# Using break statement\n",
    "for i in range(5):\n",
    "    if i == 3:\n",
    "        break\n",
    "    print(i)"
   ]
  },
  {
   "cell_type": "code",
   "execution_count": null,
   "metadata": {},
   "outputs": [],
   "source": [
    "# Using continue statement\n",
    "for i in range(5):\n",
    "    if i == 3:\n",
    "        continue\n",
    "    print(i)"
   ]
  },
  {
   "cell_type": "markdown",
   "metadata": {},
   "source": [
    "### Examples and Exercises\n",
    "\n",
    "Now, let's work on some examples and exercises to practice loops.\n",
    "\n",
    "#### Example 1: Sum of Numbers\n",
    "\n",
    "Write a program to calculate the sum of numbers from 1 to 10."
   ]
  },
  {
   "cell_type": "code",
   "execution_count": null,
   "metadata": {},
   "outputs": [],
   "source": [
    "# Using a for loop\n",
    "total = 0\n",
    "for i in range(1, 11):\n",
    "    total += i\n",
    "print(\"Sum using for loop:\", total)"
   ]
  },
  {
   "cell_type": "code",
   "execution_count": null,
   "metadata": {},
   "outputs": [],
   "source": [
    "# Using a while loop\n",
    "total = 0\n",
    "num = 1\n",
    "while num <= 10:\n",
    "    total += num\n",
    "    num += 1\n",
    "print(\"Sum using while loop:\", total)"
   ]
  },
  {
   "cell_type": "markdown",
   "metadata": {},
   "source": [
    "\n",
    "#### Exercise 1: Print Even Numbers\n",
    "\n",
    "Write a program to print even numbers between 1 and 20.\n"
   ]
  },
  {
   "cell_type": "code",
   "execution_count": null,
   "metadata": {},
   "outputs": [],
   "source": [
    "print(\"Even numbers using for loop:\")\n",
    "for i in range(2, 21, 2):\n",
    "    print(i, end=\" \")"
   ]
  },
  {
   "cell_type": "code",
   "execution_count": null,
   "metadata": {},
   "outputs": [],
   "source": [
    "# Using a while loop\n",
    "print(\"\\nEven numbers using while loop:\")\n",
    "num = 2\n",
    "while num <= 20:\n",
    "    print(num, end=\" \")\n",
    "    num += 2"
   ]
  },
  {
   "cell_type": "markdown",
   "metadata": {},
   "source": [
    "\n",
    "#### Exercise 2: Factorial of a Number\n",
    "\n",
    "Write a program to find the factorial of a given number.\n"
   ]
  },
  {
   "cell_type": "code",
   "execution_count": null,
   "metadata": {},
   "outputs": [],
   "source": [
    "# Using a for loop\n",
    "num = 5\n",
    "factorial = 1\n",
    "for i in range(1, num + 1):\n",
    "    factorial *= i\n",
    "print(\"Factorial of\", num, \"is\", factorial)"
   ]
  },
  {
   "cell_type": "code",
   "execution_count": null,
   "metadata": {},
   "outputs": [],
   "source": [
    "# Using a while loop\n",
    "num = 5\n",
    "factorial = 1\n",
    "i = 1\n",
    "while i <= num:\n",
    "    factorial *= i\n",
    "    i += 1\n",
    "print(\"Factorial of\", num, \"is\", factorial)"
   ]
  },
  {
   "cell_type": "markdown",
   "metadata": {},
   "source": [
    "This concludes our introduction to loops in Python. Practice more examples and exercises to strengthen your understanding of loops.\n"
   ]
  }
 ],
 "metadata": {
  "kernelspec": {
   "display_name": "Python 3",
   "language": "python",
   "name": "python3"
  },
  "language_info": {
   "codemirror_mode": {
    "name": "ipython",
    "version": 3
   },
   "file_extension": ".py",
   "mimetype": "text/x-python",
   "name": "python",
   "nbconvert_exporter": "python",
   "pygments_lexer": "ipython3",
   "version": "3.11.5"
  }
 },
 "nbformat": 4,
 "nbformat_minor": 2
}
