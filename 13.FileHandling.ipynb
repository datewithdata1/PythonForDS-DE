{
 "cells": [
  {
   "cell_type": "markdown",
   "metadata": {},
   "source": [
    "## File Handling in Python\n",
    "\n",
    "File handling in Python involves performing operations such as reading from and writing to files. It allows you to interact with files on your computer's storage system. Let's explore file handling in Python:\n",
    "\n",
    "## 1. Opening and Closing Files\n",
    "\n",
    "To perform file operations in Python, you need to open the file first and then close it when you're done. Python provides the `open()` function for opening files."
   ]
  },
  {
   "cell_type": "code",
   "execution_count": 2,
   "metadata": {},
   "outputs": [],
   "source": [
    "# Opening a file\n",
    "file = open(\"example.txt\", \"r\")  # \"r\" for reading mode\n",
    "\n",
    "# File operations...\n",
    "\n",
    "# Closing the file\n",
    "file.close()"
   ]
  },
  {
   "cell_type": "markdown",
   "metadata": {},
   "source": [
    "Alternatively, you can use the `with` statement, which ensures that the file is properly closed after its suite finishes, even if an exception is raised.\n",
    "\n",
    "```python\n",
    "# Using 'with' statement to automatically close the file\n",
    "with open(\"example.txt\", \"r\") as file:\n",
    "    # File operations...\n",
    "```\n",
    "\n",
    "## 2. Reading from Files\n",
    "\n",
    "Python provides several methods to read data from files:\n",
    "\n",
    "### Reading Entire File\n"
   ]
  },
  {
   "cell_type": "code",
   "execution_count": 3,
   "metadata": {},
   "outputs": [
    {
     "name": "stdout",
     "output_type": "stream",
     "text": [
      "\n"
     ]
    }
   ],
   "source": [
    "with open(\"example.txt\", \"r\") as file:\n",
    "    content = file.read()\n",
    "    print(content)"
   ]
  },
  {
   "cell_type": "markdown",
   "metadata": {},
   "source": [
    "### Reading Line by Line\n"
   ]
  },
  {
   "cell_type": "code",
   "execution_count": 4,
   "metadata": {},
   "outputs": [],
   "source": [
    "with open(\"example.txt\", \"r\") as file:\n",
    "    for line in file:\n",
    "        print(line.strip())  # strip() removes leading/trailing whitespaces and newlines"
   ]
  },
  {
   "cell_type": "markdown",
   "metadata": {},
   "source": [
    "\n",
    "## 3. Writing to Files\n",
    "\n",
    "You can write data to files using the `write()` method.\n"
   ]
  },
  {
   "cell_type": "code",
   "execution_count": 5,
   "metadata": {},
   "outputs": [],
   "source": [
    "with open(\"output.txt\", \"w\") as file:\n",
    "    file.write(\"Hello, World!\\n\")\n",
    "    file.write(\"This is a new line.\\n\")"
   ]
  },
  {
   "cell_type": "markdown",
   "metadata": {},
   "source": [
    "## 4. Appending to Files\n",
    "\n",
    "To append data to an existing file, use the `append` mode (\"a\").\n"
   ]
  },
  {
   "cell_type": "code",
   "execution_count": 6,
   "metadata": {},
   "outputs": [],
   "source": [
    "with open(\"output.txt\", \"a\") as file:\n",
    "    file.write(\"Appending this line to the file.\\n\")"
   ]
  },
  {
   "cell_type": "markdown",
   "metadata": {},
   "source": [
    "## 5. Handling Exceptions\n",
    "\n",
    "When working with files, it's essential to handle exceptions, such as `FileNotFoundError` and `PermissionError`, which may occur during file operations.\n"
   ]
  },
  {
   "cell_type": "code",
   "execution_count": 7,
   "metadata": {},
   "outputs": [
    {
     "name": "stdout",
     "output_type": "stream",
     "text": [
      "File not found!\n"
     ]
    }
   ],
   "source": [
    "try:\n",
    "    with open(\"nonexistent_file.txt\", \"r\") as file:\n",
    "        content = file.read()\n",
    "except FileNotFoundError:\n",
    "    print(\"File not found!\")\n",
    "except PermissionError:\n",
    "    print(\"Permission denied!\")"
   ]
  },
  {
   "cell_type": "markdown",
   "metadata": {},
   "source": [
    "\n",
    "\n",
    "\n",
    "\n",
    "## Conclusion\n",
    "\n",
    "File handling is a crucial aspect of Python programming, allowing you to read from and write to files on your computer. By understanding how to open, read, and write files, as well as how to handle exceptions, you can effectively work with files in your Python programs. Remember to close files properly after use to ensure data integrity and avoid resource leaks."
   ]
  }
 ],
 "metadata": {
  "kernelspec": {
   "display_name": "Python 3",
   "language": "python",
   "name": "python3"
  },
  "language_info": {
   "codemirror_mode": {
    "name": "ipython",
    "version": 3
   },
   "file_extension": ".py",
   "mimetype": "text/x-python",
   "name": "python",
   "nbconvert_exporter": "python",
   "pygments_lexer": "ipython3",
   "version": "3.11.5"
  }
 },
 "nbformat": 4,
 "nbformat_minor": 2
}
