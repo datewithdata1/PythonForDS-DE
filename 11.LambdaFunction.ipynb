{
 "cells": [
  {
   "cell_type": "markdown",
   "metadata": {},
   "source": [
    "# Python Lambda Functions, Math Functions, and Random Functions Notebook\n",
    "\n",
    "\n",
    "## 1. Lambda Functions <a id=\"lambda\"></a>\n",
    "\n",
    "Lambda functions are small anonymous functions that can have any number of parameters, but can only have one expression. They are often used when you need a short function for a short period of time.\n",
    "\n",
    "### Syntax\n",
    "```python\n",
    "lambda arguments: expression\n",
    "```\n",
    "\n",
    "### Examples\n"
   ]
  },
  {
   "cell_type": "code",
   "execution_count": 1,
   "metadata": {},
   "outputs": [
    {
     "name": "stdout",
     "output_type": "stream",
     "text": [
      "8\n"
     ]
    }
   ],
   "source": [
    "# Example 1: Add two numbers using lambda function\n",
    "add = lambda x, y: x + y\n",
    "print(add(5, 3))  # Output: 8"
   ]
  },
  {
   "cell_type": "code",
   "execution_count": 2,
   "metadata": {},
   "outputs": [
    {
     "name": "stdout",
     "output_type": "stream",
     "text": [
      "16\n"
     ]
    }
   ],
   "source": [
    "# Example 2: Square a number using lambda function\n",
    "square = lambda x: x ** 2\n",
    "print(square(4))  # Output: 16"
   ]
  },
  {
   "cell_type": "code",
   "execution_count": 3,
   "metadata": {},
   "outputs": [
    {
     "name": "stdout",
     "output_type": "stream",
     "text": [
      "True\n"
     ]
    }
   ],
   "source": [
    "# Example 3: Check if a number is even using lambda function\n",
    "is_even = lambda x: x % 2 == 0\n",
    "print(is_even(6))  # Output: True"
   ]
  },
  {
   "cell_type": "code",
   "execution_count": 4,
   "metadata": {},
   "outputs": [
    {
     "name": "stdout",
     "output_type": "stream",
     "text": [
      "[(1, 'one'), (3, 'three'), (2, 'two')]\n"
     ]
    }
   ],
   "source": [
    "# Example 4: Sorting a list of tuples by the second element using lambda\n",
    "pairs = [(1, 'one'), (3, 'three'), (2, 'two')]\n",
    "pairs.sort(key=lambda x: x[1])\n",
    "print(pairs)  # Output: [(1, 'one'), (2, 'two'), (3, 'three')]\n"
   ]
  },
  {
   "cell_type": "markdown",
   "metadata": {},
   "source": [
    "## 2. Math Functions <a id=\"math\"></a>\n",
    "\n",
    "Python provides a built-in `math` module that contains a collection of mathematical functions and constants.\n",
    "\n",
    "### Examples\n"
   ]
  },
  {
   "cell_type": "code",
   "execution_count": 5,
   "metadata": {},
   "outputs": [
    {
     "name": "stdout",
     "output_type": "stream",
     "text": [
      "4.0\n"
     ]
    }
   ],
   "source": [
    "import math\n",
    "\n",
    "# Example 1: Square root of a number\n",
    "print(math.sqrt(16))  # Output: 4.0"
   ]
  },
  {
   "cell_type": "code",
   "execution_count": 6,
   "metadata": {},
   "outputs": [
    {
     "name": "stdout",
     "output_type": "stream",
     "text": [
      "1.0\n",
      "-1.0\n"
     ]
    }
   ],
   "source": [
    "# Example 2: Trigonometric functions\n",
    "print(math.sin(math.pi/2))  # Output: 1.0 (sine of 90 degrees)\n",
    "print(math.cos(math.pi))    # Output: -1.0 (cosine of 180 degrees)"
   ]
  },
  {
   "cell_type": "code",
   "execution_count": 7,
   "metadata": {},
   "outputs": [
    {
     "name": "stdout",
     "output_type": "stream",
     "text": [
      "7.38905609893065\n",
      "2.302585092994046\n"
     ]
    }
   ],
   "source": [
    "# Example 3: Exponential and logarithmic functions\n",
    "print(math.exp(2))     # Output: 7.38905609893065 (e^2)\n",
    "print(math.log(10))    # Output: 2.302585092994046 (natural logarithm of 10)"
   ]
  },
  {
   "cell_type": "code",
   "execution_count": 8,
   "metadata": {},
   "outputs": [
    {
     "name": "stdout",
     "output_type": "stream",
     "text": [
      "3.141592653589793\n",
      "2.718281828459045\n"
     ]
    }
   ],
   "source": [
    "# Example 4: Constants\n",
    "print(math.pi)         # Output: 3.141592653589793\n",
    "print(math.e)          # Output: 2.718281828459045 (Euler's number)"
   ]
  },
  {
   "cell_type": "markdown",
   "metadata": {},
   "source": [
    "\n",
    "## 3. Random Functions <a id=\"random\"></a>\n",
    "\n",
    "Python provides a built-in `random` module that allows you to generate random numbers, perform random selections, and shuffle sequences.\n",
    "\n",
    "### Examples\n"
   ]
  },
  {
   "cell_type": "code",
   "execution_count": 11,
   "metadata": {},
   "outputs": [
    {
     "name": "stdout",
     "output_type": "stream",
     "text": [
      "76\n"
     ]
    }
   ],
   "source": [
    "import random\n",
    "\n",
    "# Example 1: Generate a random integer within a range\n",
    "print(random.randint(1, 100))  # Output: Random integer between 1 and 100"
   ]
  },
  {
   "cell_type": "code",
   "execution_count": 14,
   "metadata": {},
   "outputs": [
    {
     "name": "stdout",
     "output_type": "stream",
     "text": [
      "0.27579253165712736\n"
     ]
    }
   ],
   "source": [
    "# Example 2: Generate a random floating-point number between 0 and 1\n",
    "print(random.random())         # Output: Random floating-point number between 0 and 1"
   ]
  },
  {
   "cell_type": "code",
   "execution_count": 17,
   "metadata": {},
   "outputs": [
    {
     "name": "stdout",
     "output_type": "stream",
     "text": [
      "[4, 2, 1, 3, 5]\n"
     ]
    }
   ],
   "source": [
    "# Example 3: Randomly shuffle a list\n",
    "my_list = [1, 2, 3, 4, 5]\n",
    "random.shuffle(my_list)\n",
    "print(my_list)                  # Output: Shuffled list"
   ]
  },
  {
   "cell_type": "code",
   "execution_count": 19,
   "metadata": {},
   "outputs": [
    {
     "name": "stdout",
     "output_type": "stream",
     "text": [
      "yellow\n"
     ]
    }
   ],
   "source": [
    "# Example 4: Random choice from a list\n",
    "colors = ['red', 'blue', 'green', 'yellow']\n",
    "print(random.choice(colors))   # Output: Randomly chosen color"
   ]
  },
  {
   "cell_type": "code",
   "execution_count": 22,
   "metadata": {},
   "outputs": [
    {
     "name": "stdout",
     "output_type": "stream",
     "text": [
      "82\n"
     ]
    }
   ],
   "source": [
    "# Example 5: Setting a random seed for reproducibility\n",
    "random.seed(42)\n",
    "print(random.randint(1, 100))  # Output: 81 (Same output every time with seed 42)"
   ]
  },
  {
   "cell_type": "code",
   "execution_count": null,
   "metadata": {},
   "outputs": [],
   "source": []
  }
 ],
 "metadata": {
  "kernelspec": {
   "display_name": "Python 3",
   "language": "python",
   "name": "python3"
  },
  "language_info": {
   "codemirror_mode": {
    "name": "ipython",
    "version": 3
   },
   "file_extension": ".py",
   "mimetype": "text/x-python",
   "name": "python",
   "nbconvert_exporter": "python",
   "pygments_lexer": "ipython3",
   "version": "3.11.5"
  }
 },
 "nbformat": 4,
 "nbformat_minor": 2
}
