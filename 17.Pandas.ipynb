{
 "cells": [
  {
   "cell_type": "markdown",
   "metadata": {},
   "source": [
    "## Introduction to Pandas\n",
    "\n",
    "### What is Pandas?\n",
    "Pandas is a popular open-source Python library used for data manipulation and analysis. It offers powerful data structures like DataFrame and Series, along with a wide range of functions to perform various operations on structured data.\n",
    "\n",
    "### Why Pandas?\n",
    "- Simplifies data manipulation tasks such as cleaning, transforming, and analyzing data.\n",
    "- Provides intuitive and flexible data structures suitable for handling both structured and semi-structured data.\n",
    "- Integrates well with other Python libraries such as NumPy, Matplotlib, and Scikit-learn, making it a crucial tool in the data science ecosystem.\n",
    "\n",
    "## Getting Started\n",
    "\n",
    "### Installation\n",
    "You can install Pandas using pip:\n",
    "\n",
    "```bash\n",
    "pip install pandas\n",
    "```\n",
    "\n",
    "### Importing Pandas\n",
    "After installation, you can import Pandas into your Python environment:\n"
   ]
  },
  {
   "cell_type": "code",
   "execution_count": null,
   "metadata": {},
   "outputs": [],
   "source": [
    "import pandas as pd"
   ]
  },
  {
   "cell_type": "markdown",
   "metadata": {},
   "source": [
    "## Pandas Data Structures\n",
    "\n",
    "### 1. Series\n",
    "A Series is a one-dimensional labeled array capable of holding data of any type (integer, string, float, etc.).\n"
   ]
  },
  {
   "cell_type": "code",
   "execution_count": null,
   "metadata": {},
   "outputs": [],
   "source": [
    "# Creating a Series\n",
    "s = pd.Series([1, 3, 5, 7, 9])\n",
    "print(s)"
   ]
  },
  {
   "cell_type": "markdown",
   "metadata": {},
   "source": [
    "\n",
    "### 2. DataFrame\n",
    "A DataFrame is a two-dimensional labeled data structure with columns of potentially different types. It is similar to a spreadsheet or SQL table.\n"
   ]
  },
  {
   "cell_type": "code",
   "execution_count": null,
   "metadata": {},
   "outputs": [],
   "source": [
    "# Creating a DataFrame from a dictionary\n",
    "data = {'Name': ['Alice', 'Bob', 'Charlie', 'David'],\n",
    "        'Age': [25, 30, 35, 40]}\n",
    "df = pd.DataFrame(data)\n",
    "print(df)"
   ]
  },
  {
   "cell_type": "markdown",
   "metadata": {},
   "source": [
    "## Data Input and Output\n",
    "\n",
    "### 1. CSV\n",
    "Pandas provides functions to read and write data in CSV format.\n"
   ]
  },
  {
   "cell_type": "code",
   "execution_count": null,
   "metadata": {},
   "outputs": [],
   "source": [
    "# Reading a CSV file\n",
    "df = pd.read_csv('https://raw.githubusercontent.com/uiuc-cse/data-fa14/gh-pages/data/iris.csv')\n",
    "\n",
    "# Writing to a CSV file\n",
    "df.to_csv('output.csv', index=False)"
   ]
  },
  {
   "cell_type": "markdown",
   "metadata": {},
   "source": [
    "### 2. Excel\n",
    "Pandas also supports reading and writing Excel files.\n"
   ]
  },
  {
   "cell_type": "code",
   "execution_count": null,
   "metadata": {},
   "outputs": [],
   "source": [
    "# Reading an Excel file\n",
    "df2 = pd.read_excel('data.xlsx', sheet_name='Sheet1')\n",
    "\n",
    "# Writing to an Excel file\n",
    "df2.to_excel('output.xlsx', sheet_name='Sheet1', index=False)"
   ]
  },
  {
   "cell_type": "markdown",
   "metadata": {},
   "source": [
    "\n",
    "## Essential DataFrame Operations\n",
    "\n",
    "### 1. Viewing Data\n",
    "You can quickly view the contents of a DataFrame using various functions.\n"
   ]
  },
  {
   "cell_type": "code",
   "execution_count": null,
   "metadata": {},
   "outputs": [],
   "source": [
    "# Display the first few rows\n",
    "print(df.head())\n",
    "\n",
    "print(\"--\"*20)\n",
    "# Display the last few rows\n",
    "print(df.tail())"
   ]
  },
  {
   "cell_type": "markdown",
   "metadata": {},
   "source": [
    "### 2. Data Information\n",
    "You can get information about the DataFrame using functions like `info()` and `describe()`.\n"
   ]
  },
  {
   "cell_type": "code",
   "execution_count": null,
   "metadata": {},
   "outputs": [],
   "source": [
    "# Summary of DataFrame\n",
    "print(df.info())\n",
    "\n",
    "print('--'*20)\n",
    "# Summary statistics\n",
    "print(df.describe())"
   ]
  },
  {
   "cell_type": "markdown",
   "metadata": {},
   "source": [
    "\n",
    "### 3. Selection and Indexing\n",
    "Pandas allows selecting specific rows, columns, or elements using indexing.\n"
   ]
  },
  {
   "cell_type": "code",
   "execution_count": null,
   "metadata": {},
   "outputs": [],
   "source": [
    "# Selecting a single column\n",
    "print(\"\\nSelecting a single column:\")\n",
    "print(df['species'])\n",
    "\n",
    "# Selecting multiple columns\n",
    "print(\"\\nSelecting multiple columns:\")\n",
    "print(df[['sepal_length', 'sepal_width']])\n",
    "\n",
    "# Selecting rows by index\n",
    "print(\"\\nSelecting rows by index:\")\n",
    "print(df.iloc[0])"
   ]
  },
  {
   "cell_type": "markdown",
   "metadata": {},
   "source": [
    "### 4. Filtering Data\n",
    "Filtering allows you to select rows based on specific conditions.\n"
   ]
  },
  {
   "cell_type": "code",
   "execution_count": null,
   "metadata": {},
   "outputs": [],
   "source": [
    "# Filtering based on condition\n",
    "print(\"\\nFiltering based on condition:\")\n",
    "df[df['sepal_length'] > 5.0]"
   ]
  },
  {
   "cell_type": "markdown",
   "metadata": {},
   "source": [
    "### 5. Sorting Data\n",
    "You can sort the DataFrame based on column values.\n"
   ]
  },
  {
   "cell_type": "code",
   "execution_count": null,
   "metadata": {},
   "outputs": [],
   "source": [
    "# Sorting by column\n",
    "print(\"\\nSorting by column:\")\n",
    "print(df.sort_values(by='sepal_length', ascending=False))\n"
   ]
  },
  {
   "cell_type": "markdown",
   "metadata": {},
   "source": [
    "### 6. Grouping Data\n",
    "Grouping allows you to aggregate data based on specific criteria.\n"
   ]
  },
  {
   "cell_type": "code",
   "execution_count": null,
   "metadata": {},
   "outputs": [],
   "source": [
    "# Grouping by a column\n",
    "print(\"\\nGrouping by a column:\")\n",
    "grouped = df.groupby('species')\n",
    "print(grouped.mean())"
   ]
  },
  {
   "cell_type": "markdown",
   "metadata": {},
   "source": [
    "## Advanced Operations\n",
    "\n",
    "### 1. Handling Missing Data\n",
    "Pandas provides functions to handle missing data, such as `dropna()` and `fillna()`.\n"
   ]
  },
  {
   "cell_type": "code",
   "execution_count": null,
   "metadata": {},
   "outputs": [],
   "source": [
    "# Handling missing values\n",
    "print(\"\\nHandling missing values:\")\n",
    "\n",
    "# Dropping missing values\n",
    "print(\"Dropping missing values:\")\n",
    "print(df.dropna())\n",
    "\n",
    "# Filling missing values\n",
    "print(\"Filling missing values:\")\n",
    "print(df.fillna(0))"
   ]
  },
  {
   "cell_type": "markdown",
   "metadata": {},
   "source": [
    "### 2. Combining DataFrames\n",
    "You can concatenate or merge multiple DataFrames together.\n"
   ]
  },
  {
   "cell_type": "code",
   "execution_count": null,
   "metadata": {},
   "outputs": [],
   "source": [
    "# Combining DataFrames\n",
    "print(\"\\nCombining DataFrames:\")\n",
    "\n",
    "# Concatenating DataFrames\n",
    "df1 = df.head(2)\n",
    "df2 = df.tail(2)\n",
    "\n",
    "print(\"Concatenating DataFrames:\")\n",
    "print(pd.concat([df1, df2]))"
   ]
  },
  {
   "cell_type": "code",
   "execution_count": null,
   "metadata": {},
   "outputs": [],
   "source": [
    "# Merging DataFrames\n",
    "print(\"Merging DataFrames:\")\n",
    "# Creating a DataFrame from a dictionary\n",
    "data = {'Name': ['Alice', 'Bob', 'Charlie', 'David'],\n",
    "        'Age': [25, 30, 35, 40]}\n",
    "df_left = pd.DataFrame(data)\n",
    "print(df_left)"
   ]
  },
  {
   "cell_type": "code",
   "execution_count": null,
   "metadata": {},
   "outputs": [],
   "source": [
    "# Creating a DataFrame from a dictionary\n",
    "data = {'Name': ['Alice', 'Bob', 'Charlie', 'David'],\n",
    "        'Salary': [1500, 900,1800, 1200]}\n",
    "df_right = pd.DataFrame(data)\n",
    "print(df_right)"
   ]
  },
  {
   "cell_type": "code",
   "execution_count": null,
   "metadata": {},
   "outputs": [],
   "source": [
    "pd.merge(df_left, df_right, on='Name')"
   ]
  },
  {
   "cell_type": "markdown",
   "metadata": {},
   "source": [
    "### 3. Pivot Tables\n",
    "Pivot tables allow you to summarize and aggregate data in a DataFrame.\n"
   ]
  },
  {
   "cell_type": "code",
   "execution_count": null,
   "metadata": {},
   "outputs": [],
   "source": [
    "import pandas as pd\n",
    "\n",
    "# Create a sample sales DataFrame\n",
    "data = {\n",
    "    'Date': ['2024-01-01', '2024-01-01', '2024-01-02', '2024-01-02', '2024-01-01', '2024-01-01', '2024-01-02', '2024-01-02'],\n",
    "    'Product': ['A', 'B', 'A', 'B', 'A', 'B', 'A', 'B'],\n",
    "    'Region': ['North', 'North', 'North', 'North', 'South', 'South', 'South', 'South'],\n",
    "    'Sales': [100, 200, 150, 250, 120, 220, 130, 240]\n",
    "}\n",
    "\n",
    "sales_df = pd.DataFrame(data)\n",
    "sales_df.head(3)"
   ]
  },
  {
   "cell_type": "code",
   "execution_count": null,
   "metadata": {},
   "outputs": [],
   "source": [
    "# Creating a pivot table\n",
    "print(\"\\nCreating a pivot table:\")\n",
    "pivot_table = pd.pivot_table(sales_df, values='Sales', index=['Region'], columns=['Product'], aggfunc='sum')\n",
    "print(pivot_table)"
   ]
  },
  {
   "cell_type": "markdown",
   "metadata": {},
   "source": [
    "### 4. MultiIndexing\n",
    "MultiIndexing enables working with higher-dimensional data efficiently.\n"
   ]
  },
  {
   "cell_type": "code",
   "execution_count": null,
   "metadata": {},
   "outputs": [],
   "source": [
    "# MultiIndexing\n",
    "print(\"\\nMultiIndexing:\")\n",
    "multi_index_df = sales_df.set_index(['Region', 'Date'])\n",
    "multi_index_df"
   ]
  },
  {
   "cell_type": "markdown",
   "metadata": {},
   "source": [
    "### 5. Time Series Analysis\n",
    "Pandas provides robust support for handling time series data.\n"
   ]
  },
  {
   "cell_type": "code",
   "execution_count": null,
   "metadata": {},
   "outputs": [],
   "source": [
    "# Create a sample sales DataFrame with time series data and categorical data\n",
    "data = {\n",
    "    'Date': pd.date_range(start='2024-01-01', periods=8),\n",
    "    'Product': ['A', 'B', 'A', 'B', 'A', 'B', 'A', 'B'],\n",
    "    'Region': ['North', 'North', 'North', 'North', 'South', 'South', 'South', 'South'],\n",
    "    'Sales': [100, 200, 150, 250, 120, 220, 130, 240]\n",
    "}\n",
    "\n",
    "sales_df = pd.DataFrame(data)\n",
    "sales_df.head(3)"
   ]
  },
  {
   "cell_type": "code",
   "execution_count": null,
   "metadata": {},
   "outputs": [],
   "source": [
    "# Convert 'Product' column to categorical data type\n",
    "sales_df['Product'] = sales_df['Product'].astype('category')\n",
    "\n",
    "# Display the first few rows of the dataset\n",
    "print(\"First few rows of the sales dataset:\")\n",
    "print(sales_df.head())"
   ]
  },
  {
   "cell_type": "code",
   "execution_count": null,
   "metadata": {},
   "outputs": [],
   "source": [
    "# Time Zone Handling\n",
    "print(\"\\nTime Zone Handling:\")\n",
    "\n",
    "# Localize the 'Date' column to a specific time zone\n",
    "sales_df['Date'] = sales_df['Date'].dt.tz_localize('UTC')\n",
    "print(sales_df.head())"
   ]
  },
  {
   "cell_type": "markdown",
   "metadata": {},
   "source": [
    "### 6. Working with Big Data\n",
    "Pandas supports out-of-core computing for working with large datasets.\n"
   ]
  },
  {
   "cell_type": "code",
   "execution_count": null,
   "metadata": {},
   "outputs": [],
   "source": [
    "# Working with Big Data\n",
    "print(\"\\nWorking with Big Data:\")\n",
    "\n",
    "\n",
    "chunk_size = 2\n",
    "num_chunks = len(sales_df) // chunk_size + 1\n",
    "\n",
    "for i in range(num_chunks):\n",
    "    start_idx = i * chunk_size\n",
    "    end_idx = min((i + 1) * chunk_size, len(sales_df))\n",
    "    chunk = sales_df.iloc[start_idx:end_idx]\n",
    "    print(f\"Processing chunk {i+1}/{num_chunks}:\")\n",
    "    # Perform operations on the chunk\n",
    "    print(chunk)\n",
    "    print(\"--\"*20)"
   ]
  },
  {
   "cell_type": "markdown",
   "metadata": {},
   "source": [
    "## Plots\n",
    "\n",
    "Pandas provides some basic plotting capabilities without the need for Matplotlib. These plotting functions are built on top of Matplotlib but provide a simplified interface for quick data visualization. Let's create some plots using these built-in Pandas functions."
   ]
  },
  {
   "cell_type": "code",
   "execution_count": null,
   "metadata": {},
   "outputs": [],
   "source": [
    "# Importing necessary libraries\n",
    "import pandas as pd\n",
    "\n",
    "# Create a sample DataFrame\n",
    "data = {\n",
    "    'x': [1, 2, 3, 4, 5],\n",
    "    'y': [2, 4, 6, 8, 10],\n",
    "    'z': [1, 3, 5, 7, 9]\n",
    "}\n",
    "\n",
    "df = pd.DataFrame(data)\n",
    "\n",
    "# Line plot\n",
    "print(\"Line plot:\")\n",
    "df.plot(kind='line', title='Line Plot')"
   ]
  },
  {
   "cell_type": "code",
   "execution_count": null,
   "metadata": {},
   "outputs": [],
   "source": [
    "# Bar plot\n",
    "print(\"\\nBar plot:\")\n",
    "df.plot(kind='bar', title='Bar Plot')"
   ]
  },
  {
   "cell_type": "code",
   "execution_count": null,
   "metadata": {},
   "outputs": [],
   "source": [
    "# Box plot\n",
    "print(\"\\nBox plot:\")\n",
    "df.plot(kind='box', title='Box Plot')"
   ]
  },
  {
   "cell_type": "code",
   "execution_count": null,
   "metadata": {},
   "outputs": [],
   "source": [
    "# Density plot\n",
    "print(\"\\nDensity plot:\")\n",
    "df.plot(kind='density', title='Density Plot')"
   ]
  },
  {
   "cell_type": "code",
   "execution_count": null,
   "metadata": {},
   "outputs": [],
   "source": [
    "# Pie chart (using a Series)\n",
    "print(\"\\nPie chart:\")\n",
    "df['y'].plot(kind='pie', title='Pie Chart')"
   ]
  },
  {
   "cell_type": "markdown",
   "metadata": {},
   "source": [
    "\n",
    "## Conclusion\n",
    "\n",
    "This comprehensive Pandas notebook covered various aspects of the Pandas library, including basic operations, data input/output, essential DataFrame operations, and advanced techniques such as MultiIndexing, time series analysis, handling categorical data, and working with big data. With Pandas, you have a powerful tool at your disposal for all your data manipulation and analysis needs.\n",
    "\n",
    "---\n",
    "\n",
    "This notebook provides a comprehensive guide to Pandas, from basic operations to advanced techniques. Feel free to expand on each section with additional examples, explanations, and use cases to further enhance your understanding of Pandas."
   ]
  }
 ],
 "metadata": {
  "kernelspec": {
   "display_name": "Python 3",
   "language": "python",
   "name": "python3"
  },
  "language_info": {
   "codemirror_mode": {
    "name": "ipython",
    "version": 3
   },
   "file_extension": ".py",
   "mimetype": "text/x-python",
   "name": "python",
   "nbconvert_exporter": "python",
   "pygments_lexer": "ipython3",
   "version": "3.11.5"
  }
 },
 "nbformat": 4,
 "nbformat_minor": 2
}
