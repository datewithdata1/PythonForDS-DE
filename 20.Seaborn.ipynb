{
  "cells": [
    {
      "cell_type": "markdown",
      "metadata": {
        "id": "AdXcYP_ILnB_"
      },
      "source": [
        "# Visualization with Seaborn"
      ]
    },
    {
      "cell_type": "markdown",
      "metadata": {
        "id": "3xuPHy9LLnCD"
      },
      "source": [
        "Matplotlib has been at the core of scientific visualization in Python for decades, but even avid users will admit it often leaves much to be desired.\n",
        "There are several complaints about Matplotlib that often come up:\n",
        "\n",
        "- A common early complaint, which is now outdated: prior to version 2.0, Matplotlib's color and style defaults were at times poor and looked dated.\n",
        "- Matplotlib's API is relatively low-level. Doing sophisticated statistical visualization is possible, but often requires a *lot* of boilerplate code.\n",
        "- Matplotlib predated Pandas by more than a decade, and thus is not designed for use with Pandas `DataFrame` objects. In order to visualize data from a `DataFrame`, you must extract each `Series` and often concatenate them together into the right format. It would be nicer to have a plotting library that can intelligently use the `DataFrame` labels in a plot.\n",
        "\n",
        "An answer to these problems is [Seaborn](http://seaborn.pydata.org/). Seaborn provides an API on top of Matplotlib that offers sane choices for plot style and color defaults, defines simple high-level functions for common statistical plot types, and integrates with the functionality provided by Pandas.\n",
        "\n",
        "To be fair, the Matplotlib team has adapted to the changing landscape: it added the `plt.style` tools discussed in [Customizing Matplotlib: Configurations and Style Sheets](04.11-Settings-and-Stylesheets.ipynb), and Matplotlib is starting to handle Pandas data more seamlessly.\n",
        "But for all the reasons just discussed, Seaborn remains a useful add-on.\n",
        "\n",
        "By convention, Seaborn is often imported as `sns`:"
      ]
    },
    {
      "cell_type": "code",
      "execution_count": null,
      "metadata": {
        "id": "lDmC4hdmLnCF"
      },
      "outputs": [],
      "source": [
        "%matplotlib inline\n",
        "import matplotlib.pyplot as plt\n",
        "import seaborn as sns\n",
        "import numpy as np\n",
        "import pandas as pd\n",
        "\n",
        "sns.set()  # seaborn's method to set its chart style"
      ]
    },
    {
      "cell_type": "markdown",
      "metadata": {
        "id": "sdpc_0HALnCG"
      },
      "source": [
        "## Exploring Seaborn Plots\n",
        "\n",
        "The main idea of Seaborn is that it provides high-level commands to create a variety of plot types useful for statistical data exploration, and even some statistical model fitting.\n",
        "\n",
        "Let's take a look at a few of the datasets and plot types available in Seaborn. Note that all of the following *could* be done using raw Matplotlib commands (this is, in fact, what Seaborn does under the hood), but the Seaborn API is much more convenient."
      ]
    },
    {
      "cell_type": "markdown",
      "metadata": {
        "id": "myOG0knJLnCG"
      },
      "source": [
        "### Histograms, KDE, and Densities\n",
        "\n",
        "Often in statistical data visualization, all you want is to plot histograms and joint distributions of variables.\n",
        "We have seen that this is relatively straightforward in Matplotlib (see the following figure):"
      ]
    },
    {
      "cell_type": "code",
      "execution_count": null,
      "metadata": {
        "id": "vlnjtrS_LnCG",
        "jupyter": {
          "outputs_hidden": false
        },
        "outputId": "0ed77627-c751-42d6-99fe-cf3ae6d72168"
      },
      "outputs": [],
      "source": [
        "data = np.random.multivariate_normal([0, 0], [[5, 2], [2, 2]], size=2000)\n",
        "data = pd.DataFrame(data, columns=['x', 'y'])\n",
        "\n",
        "for col in 'xy':\n",
        "    plt.hist(data[col], density=True, alpha=0.5)"
      ]
    },
    {
      "cell_type": "markdown",
      "metadata": {
        "id": "WtIFjIfALnCH"
      },
      "source": [
        "Rather than just providing a histogram as a visual output, we can get a smooth estimate of the distribution using kernel density estimation (introduced in [Density and Contour Plots](04.04-Density-and-Contour-Plots.ipynb)), which Seaborn does with ``sns.kdeplot`` (see the following figure):"
      ]
    },
    {
      "cell_type": "code",
      "execution_count": null,
      "metadata": {
        "id": "kAkGyTw_LnCH",
        "jupyter": {
          "outputs_hidden": false
        },
        "outputId": "edbb77a8-e360-4f21-b6ce-aeecd0205f77"
      },
      "outputs": [],
      "source": [
        "sns.kdeplot(data=data, shade=True);"
      ]
    },
    {
      "cell_type": "markdown",
      "metadata": {
        "id": "TxaRbXCFLnCI"
      },
      "source": [
        "If we pass `x` and `y` columns to `kdeplot`, we instead get a two-dimensional visualization of the joint density (see the following figure):"
      ]
    },
    {
      "cell_type": "code",
      "execution_count": null,
      "metadata": {
        "id": "JEYR9iHPLnCI",
        "jupyter": {
          "outputs_hidden": false
        },
        "outputId": "909c3103-a041-430e-fcc9-0497d50bc46f"
      },
      "outputs": [],
      "source": [
        "sns.kdeplot(data=data, x='x', y='y');"
      ]
    },
    {
      "cell_type": "markdown",
      "metadata": {
        "id": "OFbM-4JRLnCI"
      },
      "source": [
        "We can see the joint distribution and the marginal distributions together using `sns.jointplot`, which we'll explore further later in this chapter."
      ]
    },
    {
      "cell_type": "markdown",
      "metadata": {
        "id": "JMiYZUPJLnCI"
      },
      "source": [
        "### Pair Plots\n",
        "\n",
        "When you generalize joint plots to datasets of larger dimensions, you end up with *pair plots*. These are very useful for exploring correlations between multidimensional data, when you'd like to plot all pairs of values against each other.\n",
        "\n",
        "We'll demo this with the well-known Iris dataset, which lists measurements of petals and sepals of three Iris species:"
      ]
    },
    {
      "cell_type": "code",
      "execution_count": null,
      "metadata": {
        "id": "ZxTUAl0MLnCI",
        "jupyter": {
          "outputs_hidden": false
        },
        "outputId": "36167bcd-30b8-4412-b086-0877c3e37c21"
      },
      "outputs": [],
      "source": [
        "iris = sns.load_dataset(\"iris\")\n",
        "iris.head()"
      ]
    },
    {
      "cell_type": "markdown",
      "metadata": {
        "id": "X0PzgCr7LnCJ"
      },
      "source": [
        "Visualizing the multidimensional relationships among the samples is as easy as calling ``sns.pairplot`` (see the following figure):"
      ]
    },
    {
      "cell_type": "code",
      "execution_count": null,
      "metadata": {
        "id": "k9o1aa8ULnCJ",
        "jupyter": {
          "outputs_hidden": false
        },
        "outputId": "3710ee51-1cc4-44c3-abe0-ced8c738d0db"
      },
      "outputs": [],
      "source": [
        "sns.pairplot(iris, hue='species', height=2.5);"
      ]
    },
    {
      "cell_type": "markdown",
      "metadata": {
        "id": "sWOiLa5KLnCJ"
      },
      "source": [
        "### Faceted Histograms\n",
        "\n",
        "Sometimes the best way to view data is via histograms of subsets, as shown in the following figure. Seaborn's `FacetGrid` makes this simple.\n",
        "We'll take a look at some data that shows the amount that restaurant staff receive in tips based on various indicator data:[^1]\n",
        "\n",
        "[^1]: The restaurant staff data used in this section divides employees into two sexes: female and male. Biological sex\n",
        "isn’t binary, but the following discussion and visualizations are limited by this data."
      ]
    },
    {
      "cell_type": "markdown",
      "metadata": {
        "id": "hESbfQW2LnCJ"
      },
      "source": []
    },
    {
      "cell_type": "code",
      "execution_count": null,
      "metadata": {
        "id": "mJHrMjwOLnCJ",
        "jupyter": {
          "outputs_hidden": false
        },
        "outputId": "222bd5ac-60bb-478a-b779-33fe9cb6b38c"
      },
      "outputs": [],
      "source": [
        "tips = sns.load_dataset('tips')\n",
        "tips.head()"
      ]
    },
    {
      "cell_type": "code",
      "execution_count": null,
      "metadata": {
        "id": "ySc1nRHhLnCJ",
        "jupyter": {
          "outputs_hidden": false
        },
        "outputId": "bf1a3691-f6a4-4d09-ae4e-261613b65e1d"
      },
      "outputs": [],
      "source": [
        "tips['tip_pct'] = 100 * tips['tip'] / tips['total_bill']\n",
        "\n",
        "grid = sns.FacetGrid(tips, row=\"sex\", col=\"time\", margin_titles=True)\n",
        "grid.map(plt.hist, \"tip_pct\", bins=np.linspace(0, 40, 15));"
      ]
    },
    {
      "cell_type": "markdown",
      "metadata": {
        "id": "JsrRoOMRLnCK"
      },
      "source": [
        "The faceted chart gives us some quick insights into the dataset: for example, we see that it contains far more data on male servers during the dinner hour than other categories, and typical tip amounts appear to range from approximately 10% to 20%, with some outliers on either end.\n",
        "\n",
        "### Categorical Plots\n",
        "\n",
        "Categorical plots can be useful for this kind of visualization as well. These allow you to view the distribution of a parameter within bins defined by any other parameter, as shown in the following figure:"
      ]
    },
    {
      "cell_type": "code",
      "execution_count": null,
      "metadata": {
        "id": "iAtwr5XZLnCK",
        "jupyter": {
          "outputs_hidden": false
        },
        "outputId": "b1c7ce0b-1c59-4450-ae6c-7acc95b19312"
      },
      "outputs": [],
      "source": [
        "with sns.axes_style(style='ticks'):\n",
        "    g = sns.catplot(x=\"day\", y=\"total_bill\", hue=\"sex\", data=tips, kind=\"box\")\n",
        "    g.set_axis_labels(\"Day\", \"Total Bill\");"
      ]
    },
    {
      "cell_type": "markdown",
      "metadata": {
        "id": "UqZ1llS6LnCK"
      },
      "source": [
        "### Joint Distributions\n",
        "\n",
        "Similar to the pair plot we saw earlier, we can use `sns.jointplot` to show the joint distribution between different datasets, along with the associated marginal distributions (see the following figure):"
      ]
    },
    {
      "cell_type": "code",
      "execution_count": null,
      "metadata": {
        "id": "x3RXwGdKLnCK",
        "jupyter": {
          "outputs_hidden": false
        },
        "outputId": "e8c30c83-457b-4c2c-8e23-ff08843c1ec3"
      },
      "outputs": [],
      "source": [
        "with sns.axes_style('white'):\n",
        "    sns.jointplot(x=\"total_bill\", y=\"tip\", data=tips, kind='hex')"
      ]
    },
    {
      "cell_type": "markdown",
      "metadata": {
        "id": "spt_htmSLnCK"
      },
      "source": [
        "The joint plot can even do some automatic kernel density estimation and regression, as shown in the following figure:"
      ]
    },
    {
      "cell_type": "code",
      "execution_count": null,
      "metadata": {
        "id": "stPPjA84LnCK",
        "jupyter": {
          "outputs_hidden": false
        },
        "outputId": "d6ca738a-bed8-4bc4-9a10-b27504f1f702"
      },
      "outputs": [],
      "source": [
        "sns.jointplot(x=\"total_bill\", y=\"tip\", data=tips, kind='reg');"
      ]
    },
    {
      "cell_type": "markdown",
      "metadata": {
        "id": "Mna4TTrhLnCK"
      },
      "source": [
        "### Bar Plots\n",
        "\n",
        "Time series can be plotted using `sns.factorplot`. In the following example, we'll use the Planets dataset that we first saw in [Aggregation and Grouping](03.08-Aggregation-and-Grouping.ipynb); see the following figure for the result:"
      ]
    },
    {
      "cell_type": "code",
      "execution_count": null,
      "metadata": {
        "id": "lbQWtkb3LnCK",
        "jupyter": {
          "outputs_hidden": false
        },
        "outputId": "f3c0aa6c-8efb-4992-f5ec-2268c4d124d0"
      },
      "outputs": [],
      "source": [
        "planets = sns.load_dataset('planets')\n",
        "planets.head()"
      ]
    },
    {
      "cell_type": "code",
      "execution_count": null,
      "metadata": {
        "id": "pcYFnIpXLnCK",
        "jupyter": {
          "outputs_hidden": false
        },
        "outputId": "a2c8bd47-8f6f-4a12-aa15-efd892c7accc"
      },
      "outputs": [],
      "source": [
        "with sns.axes_style('white'):\n",
        "    g = sns.catplot(x=\"year\", data=planets, aspect=2,\n",
        "                    kind=\"count\", color='steelblue')\n",
        "    g.set_xticklabels(step=5)"
      ]
    },
    {
      "cell_type": "markdown",
      "metadata": {
        "id": "JwJJrY9ZLnCL"
      },
      "source": [
        "We can learn more by looking at the *method* of discovery of each of these planets (see the following figure):"
      ]
    },
    {
      "cell_type": "code",
      "execution_count": null,
      "metadata": {
        "id": "mOCITMQxLnCL",
        "jupyter": {
          "outputs_hidden": false
        },
        "outputId": "235e3cfa-1ee1-4821-b74a-0a5e0ed06ff2"
      },
      "outputs": [],
      "source": [
        "with sns.axes_style('white'):\n",
        "    g = sns.catplot(x=\"year\", data=planets, aspect=4.0, kind='count',\n",
        "                    hue='method', order=range(2001, 2015))\n",
        "    g.set_ylabels('Number of Planets Discovered')"
      ]
    },
    {
      "cell_type": "markdown",
      "metadata": {
        "id": "Qua132vjLnCL"
      },
      "source": [
        "For more information on plotting with Seaborn, see the [Seaborn documentation](http://seaborn.pydata.org/), and particularly the [example gallery](https://seaborn.pydata.org/examples/index.html)."
      ]
    },
    {
      "cell_type": "markdown",
      "metadata": {
        "id": "0u8viU-iLnCL"
      },
      "source": [
        "## Example: Exploring Marathon Finishing Times\n",
        "[^2]: The marathon data used in this section divides runners into two genders: men and women. While gender is a\n",
        "spectrum, the following discussion and visualizations use this binary because they depend on the data."
      ]
    },
    {
      "cell_type": "code",
      "execution_count": null,
      "metadata": {
        "id": "ubMDlbsALnCL",
        "jupyter": {
          "outputs_hidden": false
        },
        "outputId": "662166de-96d9-4732-9681-3b688ea5a293"
      },
      "outputs": [],
      "source": [
        "data = pd.read_csv('data/marathon-data.csv')\n",
        "data.head()"
      ]
    },
    {
      "cell_type": "markdown",
      "metadata": {
        "id": "dnzhZUJOLnCL"
      },
      "source": [
        "Notice that Pandas loaded the time columns as Python strings (type `object`); we can see this by looking at the `dtypes` attribute of the `DataFrame`:"
      ]
    },
    {
      "cell_type": "code",
      "execution_count": null,
      "metadata": {
        "id": "MRJWCd0kLnCL",
        "jupyter": {
          "outputs_hidden": false
        },
        "outputId": "7840e069-2ef9-414f-a2f7-9cbac0cfaa6d"
      },
      "outputs": [],
      "source": [
        "data.dtypes"
      ]
    },
    {
      "cell_type": "markdown",
      "metadata": {
        "id": "u4bW-U41LnCL"
      },
      "source": [
        "Let's fix this by providing a converter for the times:"
      ]
    },
    {
      "cell_type": "code",
      "execution_count": null,
      "metadata": {
        "id": "segQsa6tLnCL",
        "jupyter": {
          "outputs_hidden": false
        },
        "outputId": "6fdff16a-6b72-46e8-8f4f-572e8d646988"
      },
      "outputs": [],
      "source": [
        "import datetime\n",
        "\n",
        "def convert_time(s):\n",
        "    h, m, s = map(int, s.split(':'))\n",
        "    return datetime.timedelta(hours=h, minutes=m, seconds=s)\n",
        "\n",
        "data = pd.read_csv('data/marathon-data.csv',\n",
        "                   converters={'split':convert_time, 'final':convert_time})\n",
        "data.head()"
      ]
    },
    {
      "cell_type": "code",
      "execution_count": null,
      "metadata": {
        "id": "wVvbvAjtLnCL",
        "jupyter": {
          "outputs_hidden": false
        },
        "outputId": "945777d8-86ae-49a2-e75b-7bbb781c4dd1"
      },
      "outputs": [],
      "source": [
        "data.dtypes"
      ]
    },
    {
      "cell_type": "markdown",
      "metadata": {
        "id": "T7aOxmokLnCQ"
      },
      "source": [
        "That will make it easier to manipulate the temporal data. For the purpose of our Seaborn plotting utilities, let's next add columns that give the times in seconds:"
      ]
    },
    {
      "cell_type": "code",
      "execution_count": null,
      "metadata": {
        "id": "45BY-UXXLnCQ",
        "jupyter": {
          "outputs_hidden": false
        },
        "outputId": "166ba9c1-1add-416b-ed2c-c76612960b90"
      },
      "outputs": [],
      "source": [
        "data['split_sec'] = data['split'].view(int) / 1E9\n",
        "data['final_sec'] = data['final'].view(int) / 1E9\n",
        "data.head()"
      ]
    },
    {
      "cell_type": "markdown",
      "metadata": {
        "id": "t8LMo_fzLnCQ"
      },
      "source": [
        "To get an idea of what the data looks like, we can plot a `jointplot` over the data; the following figure shows the result:"
      ]
    },
    {
      "cell_type": "code",
      "execution_count": null,
      "metadata": {
        "id": "0eq9bc_GLnCQ",
        "jupyter": {
          "outputs_hidden": false
        },
        "outputId": "44f17dda-517d-4a6c-9a85-34dea6e5c460"
      },
      "outputs": [],
      "source": [
        "with sns.axes_style('white'):\n",
        "    g = sns.jointplot(x='split_sec', y='final_sec', data=data, kind='hex')\n",
        "    g.ax_joint.plot(np.linspace(4000, 16000),\n",
        "                    np.linspace(8000, 32000), ':k')"
      ]
    },
    {
      "cell_type": "markdown",
      "metadata": {
        "id": "BMCnOohRLnCR"
      },
      "source": [
        "The dotted line shows where someone's time would lie if they ran the marathon at a perfectly steady pace. The fact that the distribution lies above this indicates (as you might expect) that most people slow down over the course of the marathon.\n",
        "If you have run competitively, you'll know that those who do the opposite—run faster during the second half of the race—are said to have \"negative-split\" the race.\n",
        "\n",
        "Let's create another column in the data, the split fraction, which measures the degree to which each runner negative-splits or positive-splits the race:"
      ]
    },
    {
      "cell_type": "code",
      "execution_count": null,
      "metadata": {
        "id": "Q12DbYP0LnCR",
        "jupyter": {
          "outputs_hidden": false
        },
        "outputId": "1edc7448-b407-4ed8-d7c3-c4a21dd4aa0a"
      },
      "outputs": [],
      "source": [
        "data['split_frac'] = 1 - 2 * data['split_sec'] / data['final_sec']\n",
        "data.head()"
      ]
    },
    {
      "cell_type": "markdown",
      "metadata": {
        "id": "BCIHREG8LnCR"
      },
      "source": [
        "Where this split difference is less than zero, the person negative-split the race by that fraction.\n",
        "Let's do a distribution plot of this split fraction (see the following figure):"
      ]
    },
    {
      "cell_type": "code",
      "execution_count": null,
      "metadata": {
        "id": "TogKR7oELnCR",
        "jupyter": {
          "outputs_hidden": false
        },
        "outputId": "f72e215a-7df7-431c-ff39-def07d0aa142"
      },
      "outputs": [],
      "source": [
        "sns.displot(data['split_frac'], kde=False)\n",
        "plt.axvline(0, color=\"k\", linestyle=\"--\");"
      ]
    },
    {
      "cell_type": "code",
      "execution_count": null,
      "metadata": {
        "id": "t003Pw9NLnCR",
        "jupyter": {
          "outputs_hidden": false
        },
        "outputId": "5c948166-e346-43be-815b-aca139f4b30f"
      },
      "outputs": [],
      "source": [
        "sum(data.split_frac < 0)"
      ]
    },
    {
      "cell_type": "markdown",
      "metadata": {
        "id": "axQg-LdKLnCR"
      },
      "source": [
        "Out of nearly 40,000 participants, there were only 250 people who negative-split their marathon.\n",
        "\n",
        "Let's see whether there is any correlation between this split fraction and other variables. We'll do this using a `PairGrid`, which draws plots of all these correlations (see the following figure):"
      ]
    },
    {
      "cell_type": "code",
      "execution_count": null,
      "metadata": {
        "id": "GRLzmEJMLnCR",
        "jupyter": {
          "outputs_hidden": false
        },
        "outputId": "698ab657-0adc-4cae-a46f-48c64347184b"
      },
      "outputs": [],
      "source": [
        "g = sns.PairGrid(data, vars=['age', 'split_sec', 'final_sec', 'split_frac'],\n",
        "                 hue='gender', palette='RdBu_r')\n",
        "g.map(plt.scatter, alpha=0.8)\n",
        "g.add_legend();"
      ]
    },
    {
      "cell_type": "markdown",
      "metadata": {
        "id": "ixOaDBrlLnCR"
      },
      "source": [
        "It looks like the split fraction does not correlate particularly with age, but does correlate with the final time: faster runners tend to have closer to even splits on their marathon time. Let's zoom in on the histogram of split fractions separated by gender, shown in the following figure:"
      ]
    },
    {
      "cell_type": "code",
      "execution_count": null,
      "metadata": {
        "id": "Kih2M6nfLnCR",
        "jupyter": {
          "outputs_hidden": false
        },
        "outputId": "67d9a6bb-cb5e-4dae-f08b-4fc772872fe4"
      },
      "outputs": [],
      "source": [
        "sns.kdeplot(data.split_frac[data.gender=='M'], label='men', shade=True)\n",
        "sns.kdeplot(data.split_frac[data.gender=='W'], label='women', shade=True)\n",
        "plt.xlabel('split_frac');"
      ]
    },
    {
      "cell_type": "markdown",
      "metadata": {
        "id": "kyVyCKH4LnCS"
      },
      "source": [
        "The interesting thing here is that there are many more men than women who are running close to an even split!\n",
        "It almost looks like a bimodal distribution among the men and women. Let's see if we can suss out what's going on by looking at the distributions as a function of age.\n",
        "\n",
        "A nice way to compare distributions is to use a *violin plot*, shown in the following figure:"
      ]
    },
    {
      "cell_type": "code",
      "execution_count": null,
      "metadata": {
        "id": "JScW3kx1LnCS",
        "jupyter": {
          "outputs_hidden": false
        },
        "outputId": "dc7c4fd2-ccd8-43f5-e01a-129a2cd905de"
      },
      "outputs": [],
      "source": [
        "sns.violinplot(x=\"gender\", y=\"split_frac\", data=data,\n",
        "               palette=[\"lightblue\", \"lightpink\"]);"
      ]
    },
    {
      "cell_type": "markdown",
      "metadata": {
        "id": "rpBXvoldLnCS"
      },
      "source": [
        "Let's look a little deeper, and compare these violin plots as a function of age (see the following figure). We'll start by creating a new column in the array that specifies the age range that each person is in, by decade:"
      ]
    },
    {
      "cell_type": "code",
      "execution_count": null,
      "metadata": {
        "id": "rEMDF3pBLnCS",
        "jupyter": {
          "outputs_hidden": false
        },
        "outputId": "bdac9138-37b9-48cd-ce81-2c3a971d26b3"
      },
      "outputs": [],
      "source": [
        "data['age_dec'] = data.age.map(lambda age: 10 * (age // 10))\n",
        "data.head()"
      ]
    },
    {
      "cell_type": "code",
      "execution_count": null,
      "metadata": {
        "id": "BZGlsMfkLnCS",
        "jupyter": {
          "outputs_hidden": false
        },
        "outputId": "c23e542d-2d83-4734-ef83-029deab34703"
      },
      "outputs": [],
      "source": [
        "men = (data.gender == 'M')\n",
        "women = (data.gender == 'W')\n",
        "\n",
        "with sns.axes_style(style=None):\n",
        "    sns.violinplot(x=\"age_dec\", y=\"split_frac\", hue=\"gender\", data=data,\n",
        "                   split=True, inner=\"quartile\",\n",
        "                   palette=[\"lightblue\", \"lightpink\"]);"
      ]
    },
    {
      "cell_type": "markdown",
      "metadata": {
        "id": "Onc850wbLnCS"
      },
      "source": [
        "We can see where the distributions among men and women differ: the split distributions of men in their 20s to 50s show a pronounced overdensity toward lower splits when compared to women of the same age (or of any age, for that matter).\n",
        "\n",
        "Also surprisingly, it appears that the 80-year-old women seem to outperform *everyone* in terms of their split time, although this is likely a small number effect, as there are only a handful of runners in that range:"
      ]
    },
    {
      "cell_type": "code",
      "execution_count": null,
      "metadata": {
        "id": "FXeoNC5LLnCS",
        "jupyter": {
          "outputs_hidden": false
        },
        "outputId": "27486144-af42-40a3-9972-f25d92d5e92a"
      },
      "outputs": [],
      "source": [
        "(data.age > 80).sum()"
      ]
    },
    {
      "cell_type": "markdown",
      "metadata": {
        "id": "FGawBpeyLnCS"
      },
      "source": [
        "Back to the men with negative splits: who are these runners? Does this split fraction correlate with finishing quickly? We can plot this very easily. We'll use `regplot`, which will automatically fit a linear regression model to the data (see the following figure):"
      ]
    },
    {
      "cell_type": "code",
      "execution_count": null,
      "metadata": {
        "id": "aYx4ITQJLnCT",
        "jupyter": {
          "outputs_hidden": false
        },
        "outputId": "ba145b01-15b2-430e-d419-502a2c005a48"
      },
      "outputs": [],
      "source": [
        "g = sns.lmplot(x='final_sec', y='split_frac', col='gender', data=data,\n",
        "               markers=\".\", scatter_kws=dict(color='c'))\n",
        "g.map(plt.axhline, y=0.0, color=\"k\", ls=\":\");"
      ]
    },
    {
      "cell_type": "markdown",
      "metadata": {
        "id": "v2Huw7TnLnCT"
      },
      "source": [
        "Apparently, among both men and women, the people with fast splits tend to be faster runners who are finishing within ~15,000 seconds, or about 4 hours. People slower than that are much less likely to have a fast second split."
      ]
    }
  ],
  "metadata": {
    "anaconda-cloud": {},
    "colab": {
      "provenance": []
    },
    "jupytext": {
      "formats": "ipynb,md"
    },
    "kernelspec": {
      "display_name": "Python 3 (ipykernel)",
      "language": "python",
      "name": "python3"
    },
    "language_info": {
      "codemirror_mode": {
        "name": "ipython",
        "version": 3
      },
      "file_extension": ".py",
      "mimetype": "text/x-python",
      "name": "python",
      "nbconvert_exporter": "python",
      "pygments_lexer": "ipython3",
      "version": "3.11.5"
    }
  },
  "nbformat": 4,
  "nbformat_minor": 0
}
