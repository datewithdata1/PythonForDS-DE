{
 "cells": [
  {
   "cell_type": "markdown",
   "metadata": {},
   "source": [
    "# Python Exception Handling\n",
    "\n",
    "## Introduction\n",
    "\n",
    "In Python, exception handling is a mechanism to deal with errors that occur during the execution of a program. Errors can arise due to various reasons such as invalid input, file not found, network issues, or unexpected behavior. Exception handling allows you to gracefully handle these errors, preventing the program from crashing and providing a way to recover from exceptional situations.\n",
    "\n",
    "### Table of Contents\n",
    "1. [What are Exceptions?](#what-are-exceptions)\n",
    "2. [Why Exception Handling?](#why-exception-handling)\n",
    "3. [Basic Syntax](#basic-syntax)\n",
    "4. [Handling Specific Exceptions](#specific-exceptions)\n",
    "5. [Handling Multiple Exceptions](#multiple-exceptions)\n",
    "6. [The `try`, `except`, `else`, and `finally` Blocks](#try-except-else-finally)\n",
    "7. [Custom Exceptions](#custom-exceptions)\n",
    "8. [Best Practices](#best-practices)\n",
    "\n",
    "## 1. What are Exceptions? <a id=\"what-are-exceptions\"></a>\n",
    "\n",
    "In Python, an exception is an error that disrupts the normal flow of the program's execution. When an exception occurs, Python raises an exception object, containing information about the error, such as its type and message. Exceptions can occur during runtime due to various reasons, such as invalid input, division by zero, or file I/O errors.\n",
    "\n",
    "## 2. Why Exception Handling? <a id=\"why-exception-handling\"></a>\n",
    "\n",
    "Exception handling is essential for writing robust and reliable Python code. Here are some reasons why exception handling is important:\n",
    "\n",
    "- **Preventing Program Crashes**: Exception handling prevents the program from crashing abruptly when errors occur, ensuring graceful termination.\n",
    "- **Error Reporting**: Exception handling provides a mechanism to report errors, making it easier to debug and fix issues.\n",
    "- **Recovery**: Exception handling allows you to recover from errors by taking appropriate actions or providing fallback mechanisms.\n",
    "- **Maintainability**: Proper exception handling improves code readability and maintainability by separating error-handling logic from the main program flow.\n",
    "\n",
    "## 3. Basic Syntax <a id=\"basic-syntax\"></a>\n",
    "\n",
    "In Python, exception handling is done using the `try`, `except`, `else`, and `finally` blocks.\n",
    "\n",
    "```python\n",
    "try:\n",
    "    # Code that may raise an exception\n",
    "    # ...\n",
    "except ExceptionType:\n",
    "    # Handle the exception\n",
    "    # ...\n",
    "else:\n",
    "    # Execute if no exception occurred\n",
    "    # ...\n",
    "finally:\n",
    "    # Always executed, regardless of whether an exception occurred\n",
    "    # ...\n",
    "```"
   ]
  },
  {
   "cell_type": "code",
   "execution_count": 5,
   "metadata": {},
   "outputs": [
    {
     "name": "stdout",
     "output_type": "stream",
     "text": [
      "Error: Division by zero!\n"
     ]
    }
   ],
   "source": [
    "# Example: Handling division by zero exception\n",
    "\n",
    "try:\n",
    "    numerator = 10\n",
    "    denominator = 0\n",
    "    result = numerator / denominator\n",
    "except:\n",
    "    print(\"Error: Division by zero!\")\n"
   ]
  },
  {
   "cell_type": "markdown",
   "metadata": {},
   "source": [
    "\n",
    "## 4. Handling Specific Exceptions <a id=\"specific-exceptions\"></a>\n",
    "\n",
    "You can specify different `except` blocks to handle specific types of exceptions.\n",
    "\n",
    "```python\n",
    "try:\n",
    "    # Code that may raise an exception\n",
    "    # ...\n",
    "except ValueError:\n",
    "    # Handle ValueError\n",
    "    # ...\n",
    "except FileNotFoundError:\n",
    "    # Handle FileNotFoundError\n",
    "    # ...\n",
    "```"
   ]
  },
  {
   "cell_type": "code",
   "execution_count": 6,
   "metadata": {},
   "outputs": [
    {
     "name": "stdout",
     "output_type": "stream",
     "text": [
      "Error: Division by zero!\n"
     ]
    }
   ],
   "source": [
    "# Example: Handling division by zero exception\n",
    "\n",
    "try:\n",
    "    numerator = 10\n",
    "    denominator = 0\n",
    "    result = numerator / denominator\n",
    "except ZeroDivisionError:\n",
    "    print(\"Error: Division by zero!\")\n",
    "else:\n",
    "    print(\"Result:\", result)"
   ]
  },
  {
   "cell_type": "markdown",
   "metadata": {},
   "source": [
    "\n",
    "## 5. Handling Multiple Exceptions <a id=\"multiple-exceptions\"></a>\n",
    "\n",
    "You can handle multiple exceptions using a single `except` block.\n",
    "\n",
    "```python\n",
    "try:\n",
    "    # Code that may raise an exception\n",
    "    # ...\n",
    "except (ValueError, FileNotFoundError):\n",
    "    # Handle both ValueError and FileNotFoundError\n",
    "    # ...\n",
    "```\n",
    "\n",
    "## 6. The `try`, `except`, `else`, and `finally` Blocks <a id=\"try-except-else-finally\"></a>\n",
    "\n",
    "- **`try`**: The `try` block contains code that may raise an exception.\n",
    "- **`except`**: The `except` block handles exceptions raised in the `try` block.\n",
    "- **`else`**: The `else` block executes if no exceptions occurred in the `try` block.\n",
    "- **`finally`**: The `finally` block always executes, regardless of whether an exception occurred. It's useful for cleanup operations.\n",
    "\n",
    "```python\n",
    "try:\n",
    "    # Code that may raise an exception\n",
    "    # ...\n",
    "except ExceptionType:\n",
    "    # Handle the exception\n",
    "    # ...\n",
    "else:\n",
    "    # Execute if no exception occurred\n",
    "    # ...\n",
    "finally:\n",
    "    # Always executed, regardless of whether an exception occurred\n",
    "    # ...\n",
    "```"
   ]
  },
  {
   "cell_type": "code",
   "execution_count": 7,
   "metadata": {},
   "outputs": [
    {
     "name": "stdout",
     "output_type": "stream",
     "text": [
      "Error: File not found!\n",
      "Cleanup operations\n"
     ]
    }
   ],
   "source": [
    "# Example: Handling file not found exception\n",
    "try:\n",
    "    file = open(\"nonexistent_file.txt\", \"r\")\n",
    "    content = file.read()\n",
    "    file.close()\n",
    "except FileNotFoundError:\n",
    "    print(\"Error: File not found!\")\n",
    "else:\n",
    "    print(\"File content:\", content)\n",
    "finally:\n",
    "    print(\"Cleanup operations\")"
   ]
  },
  {
   "cell_type": "markdown",
   "metadata": {},
   "source": [
    "\n",
    "## 7. Custom Exceptions <a id=\"custom-exceptions\"></a>\n",
    "\n",
    "You can create custom exceptions by subclassing Python's built-in `Exception` class.\n",
    "\n",
    "```python\n",
    "class CustomError(Exception):\n",
    "    pass\n",
    "\n",
    "try:\n",
    "    # Code that may raise a custom exception\n",
    "    # ...\n",
    "    raise CustomError(\"An error occurred\")\n",
    "except CustomError as e:\n",
    "    # Handle the custom exception\n",
    "    # ...\n",
    "```"
   ]
  },
  {
   "cell_type": "code",
   "execution_count": 8,
   "metadata": {},
   "outputs": [
    {
     "name": "stdout",
     "output_type": "stream",
     "text": [
      "Error: Negative numbers are not allowed!\n",
      "Cleanup operations\n"
     ]
    }
   ],
   "source": [
    "\n",
    "# Example: Custom exception\n",
    "class NegativeNumberError(Exception):\n",
    "    def __init__(self, message):\n",
    "        super().__init__(message)\n",
    "\n",
    "def process_number(num):\n",
    "    if num < 0:\n",
    "        raise NegativeNumberError(\"Negative numbers are not allowed!\")\n",
    "    return num * 2\n",
    "\n",
    "try:\n",
    "    num = -5\n",
    "    result = process_number(num)\n",
    "except NegativeNumberError as e:\n",
    "    print(\"Error:\", e)\n",
    "else:\n",
    "    print(\"Result after processing:\", result)\n",
    "finally:\n",
    "    print(\"Cleanup operations\")\n"
   ]
  },
  {
   "cell_type": "markdown",
   "metadata": {},
   "source": [
    "\n",
    "## 8. Best Practices <a id=\"best-practices\"></a>\n",
    "\n",
    "- **Be Specific**: Handle specific exceptions rather than catching all exceptions.\n",
    "- **Keep it Simple**: Keep exception handling code concise and focused on error recovery.\n",
    "- **Use `else` and `finally` Wisely**: Use `else` for code that should run only if no exceptions occurred, and `finally` for cleanup operations.\n",
    "- **Avoid Bare `except`**: Avoid using bare `except` as it can catch unexpected exceptions and hide errors.\n",
    "- **Logging**: Use logging to record exceptions and other relevant information for debugging purposes.\n",
    "\n",
    "Exception handling is a crucial aspect of Python programming, enabling you to write more robust and reliable software. By understanding the basics of exception handling and following best practices, you can write cleaner and more maintainable code that gracefully handles errors and exceptions."
   ]
  }
 ],
 "metadata": {
  "kernelspec": {
   "display_name": "Python 3",
   "language": "python",
   "name": "python3"
  },
  "language_info": {
   "codemirror_mode": {
    "name": "ipython",
    "version": 3
   },
   "file_extension": ".py",
   "mimetype": "text/x-python",
   "name": "python",
   "nbconvert_exporter": "python",
   "pygments_lexer": "ipython3",
   "version": "3.11.5"
  }
 },
 "nbformat": 4,
 "nbformat_minor": 2
}
