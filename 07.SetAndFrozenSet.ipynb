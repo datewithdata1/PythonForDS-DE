{
 "cells": [
  {
   "cell_type": "markdown",
   "metadata": {},
   "source": [
    "# Sets and Frozen Sets in Python\n",
    "\n",
    "## Introduction to Sets\n",
    "\n",
    "In Python, a set is an unordered collection of unique elements. Sets are mutable, meaning you can add or remove elements, but they do not support indexing. This notebook will cover sets, their methods, and their immutable counterpart, frozen sets.\n",
    "\n",
    "### 1. Creating Sets\n",
    "\n",
    "You can create a set in Python using curly braces `{}` or the `set()` constructor.\n"
   ]
  },
  {
   "cell_type": "code",
   "execution_count": null,
   "metadata": {},
   "outputs": [],
   "source": [
    "# Creating a set\n",
    "my_set = {1, 2, 3, 4, 5,1}\n",
    "print(my_set)"
   ]
  },
  {
   "cell_type": "code",
   "execution_count": null,
   "metadata": {},
   "outputs": [],
   "source": [
    "# Using set() constructor\n",
    "another_set = set([3, 4, 5, 6, 7])\n",
    "print(another_set)"
   ]
  },
  {
   "cell_type": "markdown",
   "metadata": {},
   "source": [
    "\n",
    "### 2. Set Operations\n",
    "\n",
    "Sets support various mathematical operations like union, intersection, difference, and symmetric difference.\n"
   ]
  },
  {
   "cell_type": "code",
   "execution_count": null,
   "metadata": {},
   "outputs": [],
   "source": [
    "# Set operations\n",
    "set1 = {1, 2, 3, 4}\n",
    "set2 = {3, 4, 5, 6}\n",
    "\n",
    "print(\"Union:\", set1 | set2)"
   ]
  },
  {
   "cell_type": "code",
   "execution_count": null,
   "metadata": {},
   "outputs": [],
   "source": [
    "print(\"Intersection:\", set1 & set2)"
   ]
  },
  {
   "cell_type": "code",
   "execution_count": null,
   "metadata": {},
   "outputs": [],
   "source": [
    "print(\"Difference:\", set1 - set2)"
   ]
  },
  {
   "cell_type": "code",
   "execution_count": null,
   "metadata": {},
   "outputs": [],
   "source": [
    "print(\"Symmetric Difference:\", set1 ^ set2)"
   ]
  },
  {
   "cell_type": "markdown",
   "metadata": {},
   "source": [
    "### 3. Set Methods\n",
    "\n",
    "Python provides several methods for sets, including `add()`, `remove()`, `discard()`, `pop()`, `clear()`, etc.\n"
   ]
  },
  {
   "cell_type": "code",
   "execution_count": null,
   "metadata": {},
   "outputs": [],
   "source": [
    "# Set methods\n",
    "my_set.add(6)      # Add an element to the set\n",
    "print(my_set)"
   ]
  },
  {
   "cell_type": "code",
   "execution_count": null,
   "metadata": {},
   "outputs": [],
   "source": [
    "my_set.remove(3)   # Remove an element from the set\n",
    "print(my_set)"
   ]
  },
  {
   "cell_type": "code",
   "execution_count": null,
   "metadata": {},
   "outputs": [],
   "source": [
    "my_set.discard(2)  # Discard an element (if present) from the set\n",
    "print(my_set)"
   ]
  },
  {
   "cell_type": "code",
   "execution_count": null,
   "metadata": {},
   "outputs": [],
   "source": [
    "popped_element = my_set.pop()  # Remove and return an arbitrary element from the set\n",
    "print(\"Popped Element:\", popped_element)\n",
    "print(my_set)"
   ]
  },
  {
   "cell_type": "code",
   "execution_count": null,
   "metadata": {},
   "outputs": [],
   "source": [
    "my_set.clear()     # Remove all elements from the set\n",
    "print(my_set)"
   ]
  },
  {
   "cell_type": "markdown",
   "metadata": {},
   "source": [
    "## Frozen Sets\n",
    "\n",
    "Frozen sets in Python are immutable counterparts of sets. Once created, the elements of a frozen set cannot be changed.\n",
    "\n",
    "Frozen sets support all set methods that do not modify the set, such as `union()`, `intersection()`, `difference()`, etc.\n",
    "\n"
   ]
  },
  {
   "cell_type": "code",
   "execution_count": null,
   "metadata": {},
   "outputs": [],
   "source": [
    "# Creating a frozen set\n",
    "my_frozen_set = frozenset([1, 2, 3, 4, 5])\n",
    "print(my_frozen_set)"
   ]
  },
  {
   "cell_type": "markdown",
   "metadata": {},
   "source": [
    "### Conclusion\n",
    "\n",
    "Sets and frozen sets are useful data structures in Python for storing unique elements and performing set operations efficiently. Understanding their properties and methods can help in various programming tasks that involve set operations.\n"
   ]
  }
 ],
 "metadata": {
  "kernelspec": {
   "display_name": "Python 3",
   "language": "python",
   "name": "python3"
  },
  "language_info": {
   "codemirror_mode": {
    "name": "ipython",
    "version": 3
   },
   "file_extension": ".py",
   "mimetype": "text/x-python",
   "name": "python",
   "nbconvert_exporter": "python",
   "pygments_lexer": "ipython3",
   "version": "3.11.5"
  }
 },
 "nbformat": 4,
 "nbformat_minor": 2
}
