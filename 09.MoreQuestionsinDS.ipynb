{
 "cells": [
  {
   "cell_type": "markdown",
   "metadata": {},
   "source": [
    "### Problem: Finding the Most Frequent Element in a List"
   ]
  },
  {
   "cell_type": "code",
   "execution_count": null,
   "metadata": {},
   "outputs": [],
   "source": [
    "def most_frequent_elements(lst):\n",
    "    counts = {}  # Dictionary to store counts of each element\n",
    "    max_count = 0  # Variable to track maximum occurrence\n",
    "    \n",
    "    # Count occurrences of each element\n",
    "    for elem in lst:\n",
    "        counts[elem] = counts.get(elem, 0) + 1\n",
    "        max_count = max(max_count, counts[elem])\n",
    "    \n",
    "    most_frequent = []  # List to store most frequent elements\n",
    "    \n",
    "    # Find elements with maximum occurrence\n",
    "    for elem, count in counts.items():\n",
    "        if count == max_count:\n",
    "            most_frequent.append(elem)\n",
    "    \n",
    "    return most_frequent\n",
    "\n",
    "# Example usage:\n",
    "my_list = [1, 2, 3, 4, 2, 2, 3, 3, 3]\n",
    "result = most_frequent_elements(my_list)\n",
    "print(\"Most frequent element(s):\", result)\n"
   ]
  },
  {
   "cell_type": "markdown",
   "metadata": {},
   "source": [
    "### Problem: Removing Duplicates from a List while Preserving Order"
   ]
  },
  {
   "cell_type": "code",
   "execution_count": null,
   "metadata": {},
   "outputs": [],
   "source": [
    "def remove_duplicates(lst):\n",
    "    seen = set()  # Set to store seen elements\n",
    "    unique_list = []  # List to store unique elements\n",
    "    \n",
    "    for elem in lst:\n",
    "        if elem not in seen:\n",
    "            unique_list.append(elem)\n",
    "            seen.add(elem)\n",
    "    \n",
    "    return unique_list\n",
    "\n",
    "# Example usage:\n",
    "my_list = [1, 2, 3, 4, 2, 3, 5, 6, 4]\n",
    "result = remove_duplicates(my_list)\n",
    "print(\"List with duplicates removed:\", result)"
   ]
  },
  {
   "cell_type": "markdown",
   "metadata": {},
   "source": [
    "### Problem: Counting the Frequency of Characters in a String"
   ]
  },
  {
   "cell_type": "code",
   "execution_count": 2,
   "metadata": {},
   "outputs": [
    {
     "name": "stdout",
     "output_type": "stream",
     "text": [
      "Character frequencies: {'h': 1, 'e': 1, 'l': 3, 'o': 2, ' ': 1, 'w': 1, 'r': 1, 'd': 1}\n"
     ]
    }
   ],
   "source": [
    "def count_characters(string):\n",
    "    frequency = {}  # Dictionary to store character frequencies\n",
    "    \n",
    "    # Count frequencies of characters\n",
    "    for char in string:\n",
    "        if char in frequency:\n",
    "            frequency[char] += 1\n",
    "        else:\n",
    "            frequency[char] = 1\n",
    "    \n",
    "    return frequency\n",
    "\n",
    "# Example usage:\n",
    "my_string = \"hello world\"\n",
    "result = count_characters(my_string)\n",
    "print(\"Character frequencies:\", result)\n"
   ]
  },
  {
   "cell_type": "markdown",
   "metadata": {},
   "source": [
    "### Problem: Checking if Two Lists are Permutations of Each Other"
   ]
  },
  {
   "cell_type": "code",
   "execution_count": 3,
   "metadata": {},
   "outputs": [
    {
     "name": "stdout",
     "output_type": "stream",
     "text": [
      "Are lists permutations of each other? True\n"
     ]
    }
   ],
   "source": [
    "def are_permutations(list1, list2):\n",
    "    if len(list1) != len(list2):\n",
    "        return False\n",
    "    \n",
    "    count1 = {}\n",
    "    count2 = {}\n",
    "    \n",
    "    # Count occurrences of elements in both lists\n",
    "    for elem in list1:\n",
    "        count1[elem] = count1.get(elem, 0) + 1\n",
    "    for elem in list2:\n",
    "        count2[elem] = count2.get(elem, 0) + 1\n",
    "    \n",
    "    # Compare counts of elements\n",
    "    return count1 == count2\n",
    "\n",
    "# Example usage:\n",
    "list1 = [1, 2, 3, 4]\n",
    "list2 = [3, 4, 2, 1]\n",
    "\n",
    "result = are_permutations(list1, list2)\n",
    "print(\"Are lists permutations of each other?\", result)\n"
   ]
  },
  {
   "cell_type": "code",
   "execution_count": null,
   "metadata": {},
   "outputs": [],
   "source": []
  }
 ],
 "metadata": {
  "kernelspec": {
   "display_name": "Python 3",
   "language": "python",
   "name": "python3"
  },
  "language_info": {
   "codemirror_mode": {
    "name": "ipython",
    "version": 3
   },
   "file_extension": ".py",
   "mimetype": "text/x-python",
   "name": "python",
   "nbconvert_exporter": "python",
   "pygments_lexer": "ipython3",
   "version": "3.11.5"
  }
 },
 "nbformat": 4,
 "nbformat_minor": 2
}
