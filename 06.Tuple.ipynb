{
 "cells": [
  {
   "cell_type": "markdown",
   "metadata": {},
   "source": [
    "\n",
    "## Introduction to Tuples\n",
    "\n",
    "In Python, a tuple is a collection of ordered and immutable elements. Tuples are similar to lists, but unlike lists, tuples cannot be modified once created. This notebook provides an overview of tuples in Python, including their creation, accessing elements, methods, and differences compared to lists.\n",
    "\n",
    "### 1. Creating Tuples\n",
    "\n",
    "You can create a tuple in Python by enclosing comma-separated elements within parentheses `()`.\n",
    "\n"
   ]
  },
  {
   "cell_type": "code",
   "execution_count": null,
   "metadata": {},
   "outputs": [],
   "source": [
    "# Creating a tuple\n",
    "my_tuple = (1, 2, 3, 4, 5)\n",
    "print(my_tuple)"
   ]
  },
  {
   "cell_type": "markdown",
   "metadata": {},
   "source": [
    "### 2. Accessing Elements\n",
    "\n",
    "Similar to lists, you can access elements of a tuple using indexing.\n"
   ]
  },
  {
   "cell_type": "code",
   "execution_count": null,
   "metadata": {},
   "outputs": [],
   "source": [
    "# Accessing elements\n",
    "print(my_tuple[0])   # Accessing the first element\n",
    "print(my_tuple[-1])  # Accessing the last element"
   ]
  },
  {
   "cell_type": "markdown",
   "metadata": {},
   "source": [
    "### 3. Immutable Nature\n",
    "\n",
    "Tuples are immutable, meaning you cannot modify their elements after creation. This immutability ensures data integrity and makes tuples suitable for storing constant data.\n"
   ]
  },
  {
   "cell_type": "code",
   "execution_count": null,
   "metadata": {},
   "outputs": [],
   "source": [
    "# Attempting to modify a tuple (This will result in an error)\n",
    "try:\n",
    "    my_tuple[0] = 10\n",
    "except TypeError as e:\n",
    "    print(\"Error:\", e)"
   ]
  },
  {
   "cell_type": "markdown",
   "metadata": {},
   "source": [
    "### Explanation of Immutability\n",
    "\n",
    "The immutability of tuples is enforced by the Python interpreter. When you attempt to modify a tuple (e.g., by assigning a new value to an element), Python raises a `TypeError` indicating that tuples do not support item assignment. This behavior ensures that once a tuple is created, its elements remain fixed, providing data consistency and safety.\n",
    "\n",
    "### 4. Tuple Methods\n",
    "\n",
    "Since tuples are immutable, they have fewer methods compared to lists.\n"
   ]
  },
  {
   "cell_type": "code",
   "execution_count": null,
   "metadata": {},
   "outputs": [],
   "source": [
    "# Tuple methods\n",
    "print(my_tuple.count(3))  # Count occurrences of an element\n",
    "print(my_tuple.index(4))  # Find the index of an element"
   ]
  },
  {
   "cell_type": "markdown",
   "metadata": {},
   "source": [
    "\n",
    "### 5. Differences Between Lists and Tuples\n",
    "\n",
    "Let's compare lists and tuples using a table:\n",
    "\n",
    "| Feature        | List                               | Tuple                               |\n",
    "|----------------|------------------------------------|-------------------------------------|\n",
    "| Mutability     | Mutable                            | Immutable                           |\n",
    "| Syntax         | Enclosed in square brackets `[]`   | Enclosed in parentheses `()`       |\n",
    "| Methods        | More methods available              | Fewer methods available            |\n",
    "| Use cases      | Suitable for data that may change  | Suitable for data that is constant  |\n",
    "| Performance    | Slightly slower                    | Slightly faster                     |\n",
    "\n",
    "### Conclusion\n",
    "\n",
    "Tuples are useful for representing fixed collections of items that should not be modified. They offer performance benefits over lists in certain scenarios and are a valuable addition to Python's data structures.\n"
   ]
  }
 ],
 "metadata": {
  "kernelspec": {
   "display_name": "Python 3",
   "language": "python",
   "name": "python3"
  },
  "language_info": {
   "codemirror_mode": {
    "name": "ipython",
    "version": 3
   },
   "file_extension": ".py",
   "mimetype": "text/x-python",
   "name": "python",
   "nbconvert_exporter": "python",
   "pygments_lexer": "ipython3",
   "version": "3.11.5"
  }
 },
 "nbformat": 4,
 "nbformat_minor": 2
}
